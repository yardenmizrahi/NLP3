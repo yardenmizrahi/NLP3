{
  "cells": [
    {
      "cell_type": "markdown",
      "metadata": {
        "id": "jKNaqRpGll9g"
      },
      "source": [
        "### **Homework 3**\n",
        "Apply the following steps to the dataset you created in Homework 1 (some of these steps\n",
        "were already done in previous exercises):\n",
        "1. Use the corpus you created in Homework 1 and 2, after performing tokenization,\n",
        "lemmatization, normalization, stop-word removal, and word vectorization.\n",
        "2. Apply RNN model to predict the probability of the next word in a sentence.\n",
        "3. Apply a Long Short-Term Memory (LSTM) model to predict the probability of the next\n",
        "word in a sentence.\n",
        "4. Compare the results of the RNN and LSTM models in terms of their predictive\n",
        "performance (e.g., perplexity, accuracy) for the next-word prediction task.\n",
        "5. Use the KL-Sum algorithm (or any other relevant summarization algorithm) to perform\n",
        "extractive text summarization on the corpus.\n",
        "6. Fine-tune a pre-trained GPT-2 language model on your corpus. Select 5 partial sentences\n",
        "from the corpus, and use the fine-tuned GPT-2 model to generate completions for those\n",
        "partial sentences.\n",
        "7. Apply sentiment analysis techniques (e.g., a pre-trained sentiment analysis model or a\n",
        "rule-based approach) to the corpus, and report the statistics of the sentiment distribution\n",
        "(e.g., percentage of positive, negative, and neutral sentences) in your text."
      ]
    },
    {
      "cell_type": "markdown",
      "metadata": {
        "id": "wSJKncYyl0Ah"
      },
      "source": [
        "**The corpus I created in homework 1-2:**"
      ]
    },
    {
      "cell_type": "markdown",
      "metadata": {
        "id": "6VcbFvRcmAax"
      },
      "source": [
        "### **Imports**"
      ]
    },
    {
      "cell_type": "code",
      "execution_count": null,
      "metadata": {
        "id": "6ASqJBqblkNe"
      },
      "outputs": [],
      "source": [
        "import nltk\n",
        "import spacy\n",
        "from sklearn.feature_extraction.text import CountVectorizer, TfidfVectorizer\n",
        "from gensim.models import Word2Vec\n",
        "from nltk.corpus import stopwords, words\n",
        "from nltk.stem import PorterStemmer, WordNetLemmatizer\n",
        "from nltk.tokenize import word_tokenize, sent_tokenize, RegexpTokenizer, WhitespaceTokenizer\n",
        "\n",
        "import pandas as pd\n",
        "from google.colab import drive"
      ]
    },
    {
      "cell_type": "markdown",
      "metadata": {
        "id": "ACASuf_rmIj6"
      },
      "source": [
        "### **Loading the data**"
      ]
    },
    {
      "cell_type": "code",
      "execution_count": null,
      "metadata": {
        "colab": {
          "base_uri": "https://localhost:8080/"
        },
        "id": "bPg1dm79mHMx",
        "outputId": "fac137f5-1f24-4dcd-f04c-ca683c3f6a6d"
      },
      "outputs": [
        {
          "output_type": "stream",
          "name": "stdout",
          "text": [
            "Drive already mounted at /content/drive; to attempt to forcibly remount, call drive.mount(\"/content/drive\", force_remount=True).\n"
          ]
        }
      ],
      "source": [
        "from google.colab import drive\n",
        "drive.mount('/content/drive')\n",
        "path = \"/content/drive/MyDrive/Data/spam.csv\""
      ]
    },
    {
      "cell_type": "code",
      "execution_count": null,
      "metadata": {
        "colab": {
          "base_uri": "https://localhost:8080/"
        },
        "id": "47c-7uB8mPsL",
        "outputId": "afe465c6-5313-45b7-f07c-b26d409a768a"
      },
      "outputs": [
        {
          "output_type": "stream",
          "name": "stderr",
          "text": [
            "[nltk_data] Downloading package punkt to /root/nltk_data...\n",
            "[nltk_data]   Package punkt is already up-to-date!\n",
            "[nltk_data] Downloading package stopwords to /root/nltk_data...\n",
            "[nltk_data]   Package stopwords is already up-to-date!\n",
            "[nltk_data] Downloading package wordnet to /root/nltk_data...\n",
            "[nltk_data]   Package wordnet is already up-to-date!\n"
          ]
        }
      ],
      "source": [
        "# Download nltk resources if not already present\n",
        "nltk.download('punkt')\n",
        "nltk.download('stopwords')\n",
        "nltk.download('wordnet')\n",
        "\n",
        "# Load the dataset\n",
        "df = pd.read_csv(path, encoding='latin-1')"
      ]
    },
    {
      "cell_type": "code",
      "execution_count": null,
      "metadata": {
        "id": "trZgnV3HmV1o"
      },
      "outputs": [],
      "source": [
        "from nltk.corpus import stopwords\n",
        "from nltk.stem import WordNetLemmatizer\n",
        "import string\n",
        "\n",
        "# Load spaCy model\n",
        "nlp = spacy.load(\"en_core_web_sm\")\n",
        "\n",
        "# Basic preprocessing\n",
        "stop_words = set(stopwords.words('english'))\n",
        "punctuation = set(string.punctuation)\n",
        "wordnet_lemmatizer = WordNetLemmatizer()"
      ]
    },
    {
      "cell_type": "markdown",
      "metadata": {
        "id": "U7XuBx7hmb-R"
      },
      "source": [
        "### **Relevant Functions**"
      ]
    },
    {
      "cell_type": "code",
      "execution_count": null,
      "metadata": {
        "id": "OsFP3ZCfmYf4"
      },
      "outputs": [],
      "source": [
        "# Tokenization\n",
        "def whitespace_tokenizer(text):\n",
        "    tokenizer = WhitespaceTokenizer()\n",
        "    return tokenizer.tokenize(text)\n",
        "\n",
        "def regex_tokenizer(text):\n",
        "    tokenizer = RegexpTokenizer(r'\\w+')\n",
        "    return tokenizer.tokenize(text)\n",
        "\n",
        "def word_tokenizer(text):\n",
        "    return word_tokenize(text)\n",
        "\n",
        "def sentence_tokenizer(text):\n",
        "    return sent_tokenize(text)\n",
        "\n",
        "# Normalization\n",
        "stemmer = PorterStemmer()\n",
        "lemmatizer = WordNetLemmatizer()\n",
        "\n",
        "def stemming(tokens):\n",
        "    return [stemmer.stem(token) for token in tokens]\n",
        "\n",
        "def lemmatization(tokens):\n",
        "    return [lemmatizer.lemmatize(token) for token in tokens]\n",
        "\n",
        "# Remove stop words\n",
        "def remove_stopwords(tokens):\n",
        "    return [token for token in tokens if token not in stop_words]"
      ]
    },
    {
      "cell_type": "code",
      "execution_count": null,
      "metadata": {
        "id": "MolIt8UkmdlI"
      },
      "outputs": [],
      "source": [
        "# Process the corpus\n",
        "corpus = df['v2'].tolist()\n",
        "# Initialize the processed corpus list\n",
        "final_processed_corpus = []\n",
        "\n",
        "# Define the processing function\n",
        "def process_text(text):\n",
        "    # Step 1: Tokenization\n",
        "    whitespace_tokens = whitespace_tokenizer(text)\n",
        "    regex_tokens = regex_tokenizer(text)\n",
        "    word_tokens = word_tokenizer(text)\n",
        "    sentence_tokens = sentence_tokenizer(text)\n",
        "\n",
        "    # Step 2: Normalization - Stemming and Lemmatization\n",
        "    stemmed_tokens = stemming(word_tokens)\n",
        "    lemmatized_tokens = lemmatization(word_tokens)\n",
        "\n",
        "    # Step 3: Stop Words Removal\n",
        "    stopword_removed_tokens = remove_stopwords(word_tokens)\n",
        "\n",
        "    # Combine all transformations into a single representation\n",
        "    combined_tokens = {\n",
        "        'whitespace_tokens': whitespace_tokens,\n",
        "        'regex_tokens': regex_tokens,\n",
        "        'word_tokens': word_tokens,\n",
        "        'sentence_tokens': sentence_tokens,\n",
        "        'stemmed_tokens': stemmed_tokens,\n",
        "        'lemmatized_tokens': lemmatized_tokens,\n",
        "        'stopword_removed_tokens': stopword_removed_tokens\n",
        "    }\n",
        "\n",
        "    return combined_tokens\n",
        "\n",
        "# Process each text in the corpus\n",
        "for text in corpus:\n",
        "    processed_text = process_text(text)\n",
        "    final_processed_corpus.append(processed_text)\n"
      ]
    },
    {
      "cell_type": "markdown",
      "metadata": {
        "id": "PgLT0_QkmlxJ"
      },
      "source": [
        "### **word vectorization**"
      ]
    },
    {
      "cell_type": "code",
      "execution_count": null,
      "metadata": {
        "id": "VF9OSyoimfvf"
      },
      "outputs": [],
      "source": [
        "def word2vec_extraction(tokens):\n",
        "    model = Word2Vec(sentences=tokens, vector_size=100, window=5, min_count=1, workers=4)\n",
        "    return model"
      ]
    },
    {
      "cell_type": "code",
      "execution_count": null,
      "metadata": {
        "id": "yAFHkYrjmokY"
      },
      "outputs": [],
      "source": [
        "# Combine all tokens from the processed corpus for word2vec training\n",
        "all_tokens = [tokens['word_tokens'] for tokens in final_processed_corpus]\n",
        "word2vec_model = word2vec_extraction(all_tokens)"
      ]
    },
    {
      "cell_type": "markdown",
      "metadata": {
        "id": "y2ibTfYvngzp"
      },
      "source": [
        "### **Apply RNN model to predict the probability of the next word in a sentence**"
      ]
    },
    {
      "cell_type": "code",
      "source": [
        "import numpy as np\n",
        "import tensorflow as tf\n",
        "from tensorflow.keras.models import Sequential\n",
        "from tensorflow.keras.layers import Dense, Embedding, SimpleRNN, LSTM\n",
        "from tensorflow.keras.preprocessing.text import Tokenizer\n",
        "from tensorflow.keras.preprocessing.sequence import pad_sequences"
      ],
      "metadata": {
        "id": "yf_zC26-CNLU"
      },
      "execution_count": null,
      "outputs": []
    },
    {
      "cell_type": "code",
      "execution_count": null,
      "metadata": {
        "colab": {
          "base_uri": "https://localhost:8080/"
        },
        "id": "xYO1Gk-0njNI",
        "outputId": "6a1cacf3-8393-4a0c-9988-2fd710149baf"
      },
      "outputs": [
        {
          "output_type": "stream",
          "name": "stdout",
          "text": [
            "Epoch 1/50\n",
            "126/126 [==============================] - 8s 43ms/step - loss: 0.6941 - accuracy: 0.4877 - val_loss: 0.6956 - val_accuracy: 0.4731\n",
            "Epoch 2/50\n",
            "126/126 [==============================] - 5s 41ms/step - loss: 0.6948 - accuracy: 0.5101 - val_loss: 0.6929 - val_accuracy: 0.5112\n",
            "Epoch 3/50\n",
            "126/126 [==============================] - 7s 57ms/step - loss: 0.6938 - accuracy: 0.5001 - val_loss: 0.6917 - val_accuracy: 0.5269\n",
            "Epoch 4/50\n",
            "126/126 [==============================] - 5s 41ms/step - loss: 0.6914 - accuracy: 0.5223 - val_loss: 0.6920 - val_accuracy: 0.5135\n",
            "Epoch 5/50\n",
            "126/126 [==============================] - 7s 58ms/step - loss: 0.6848 - accuracy: 0.5644 - val_loss: 0.7127 - val_accuracy: 0.4888\n",
            "Epoch 6/50\n",
            "126/126 [==============================] - 5s 39ms/step - loss: 0.6644 - accuracy: 0.6086 - val_loss: 0.7156 - val_accuracy: 0.5067\n",
            "Epoch 7/50\n",
            "126/126 [==============================] - 6s 45ms/step - loss: 0.6269 - accuracy: 0.6687 - val_loss: 0.7523 - val_accuracy: 0.4888\n",
            "Epoch 8/50\n",
            "126/126 [==============================] - 7s 53ms/step - loss: 0.5658 - accuracy: 0.7285 - val_loss: 0.8206 - val_accuracy: 0.4865\n",
            "Epoch 9/50\n",
            "126/126 [==============================] - 5s 40ms/step - loss: 0.4904 - accuracy: 0.7868 - val_loss: 0.8983 - val_accuracy: 0.5022\n",
            "Epoch 10/50\n",
            "126/126 [==============================] - 7s 59ms/step - loss: 0.4314 - accuracy: 0.8158 - val_loss: 0.9294 - val_accuracy: 0.5157\n",
            "Epoch 11/50\n",
            "126/126 [==============================] - 5s 40ms/step - loss: 0.3798 - accuracy: 0.8399 - val_loss: 0.9991 - val_accuracy: 0.5224\n",
            "Epoch 12/50\n",
            "126/126 [==============================] - 7s 56ms/step - loss: 0.3846 - accuracy: 0.8337 - val_loss: 1.0751 - val_accuracy: 0.5157\n",
            "Epoch 13/50\n",
            "126/126 [==============================] - 6s 48ms/step - loss: 0.3515 - accuracy: 0.8489 - val_loss: 1.0953 - val_accuracy: 0.4955\n",
            "Epoch 14/50\n",
            "126/126 [==============================] - 5s 39ms/step - loss: 0.2963 - accuracy: 0.8773 - val_loss: 1.1771 - val_accuracy: 0.4978\n",
            "Epoch 15/50\n",
            "126/126 [==============================] - 9s 68ms/step - loss: 0.2671 - accuracy: 0.8915 - val_loss: 1.1959 - val_accuracy: 0.5067\n",
            "Epoch 16/50\n",
            "126/126 [==============================] - 5s 40ms/step - loss: 0.2390 - accuracy: 0.8998 - val_loss: 1.2594 - val_accuracy: 0.4955\n",
            "Epoch 17/50\n",
            "126/126 [==============================] - 7s 57ms/step - loss: 0.2179 - accuracy: 0.9088 - val_loss: 1.3011 - val_accuracy: 0.4978\n",
            "Epoch 18/50\n",
            "126/126 [==============================] - 7s 55ms/step - loss: 0.2152 - accuracy: 0.9090 - val_loss: 1.3620 - val_accuracy: 0.4865\n",
            "Epoch 19/50\n",
            "126/126 [==============================] - 9s 72ms/step - loss: 0.2033 - accuracy: 0.9155 - val_loss: 1.3616 - val_accuracy: 0.4843\n",
            "Epoch 20/50\n",
            "126/126 [==============================] - 5s 43ms/step - loss: 0.1907 - accuracy: 0.9172 - val_loss: 1.3795 - val_accuracy: 0.4843\n",
            "Epoch 21/50\n",
            "126/126 [==============================] - 7s 52ms/step - loss: 0.1971 - accuracy: 0.9177 - val_loss: 1.4722 - val_accuracy: 0.4955\n",
            "Epoch 22/50\n",
            "126/126 [==============================] - 6s 49ms/step - loss: 0.1764 - accuracy: 0.9279 - val_loss: 1.4872 - val_accuracy: 0.5022\n",
            "Epoch 23/50\n",
            "126/126 [==============================] - 5s 39ms/step - loss: 0.3129 - accuracy: 0.8629 - val_loss: 1.2214 - val_accuracy: 0.4933\n",
            "Epoch 24/50\n",
            "126/126 [==============================] - 8s 60ms/step - loss: 0.2906 - accuracy: 0.8818 - val_loss: 1.2667 - val_accuracy: 0.4910\n",
            "Epoch 25/50\n",
            "126/126 [==============================] - 5s 40ms/step - loss: 0.1893 - accuracy: 0.9192 - val_loss: 1.3335 - val_accuracy: 0.4821\n",
            "Epoch 26/50\n",
            "126/126 [==============================] - 6s 47ms/step - loss: 0.1625 - accuracy: 0.9294 - val_loss: 1.4137 - val_accuracy: 0.5224\n",
            "Epoch 27/50\n",
            "126/126 [==============================] - 7s 52ms/step - loss: 0.1428 - accuracy: 0.9364 - val_loss: 1.4725 - val_accuracy: 0.4910\n",
            "Epoch 28/50\n",
            "126/126 [==============================] - 5s 39ms/step - loss: 0.1359 - accuracy: 0.9417 - val_loss: 1.5373 - val_accuracy: 0.5022\n",
            "Epoch 29/50\n",
            "126/126 [==============================] - 8s 67ms/step - loss: 0.1357 - accuracy: 0.9384 - val_loss: 1.5751 - val_accuracy: 0.4933\n",
            "Epoch 30/50\n",
            "126/126 [==============================] - 6s 50ms/step - loss: 0.1336 - accuracy: 0.9434 - val_loss: 1.6240 - val_accuracy: 0.4843\n",
            "Epoch 31/50\n",
            "126/126 [==============================] - 5s 39ms/step - loss: 0.1230 - accuracy: 0.9489 - val_loss: 1.7058 - val_accuracy: 0.5022\n",
            "Epoch 32/50\n",
            "126/126 [==============================] - 7s 58ms/step - loss: 0.1252 - accuracy: 0.9412 - val_loss: 1.6576 - val_accuracy: 0.5000\n",
            "Epoch 33/50\n",
            "126/126 [==============================] - 5s 40ms/step - loss: 0.1251 - accuracy: 0.9454 - val_loss: 1.7370 - val_accuracy: 0.4798\n",
            "Epoch 34/50\n",
            "126/126 [==============================] - 7s 58ms/step - loss: 0.1203 - accuracy: 0.9447 - val_loss: 1.7721 - val_accuracy: 0.4910\n",
            "Epoch 35/50\n",
            "126/126 [==============================] - 5s 39ms/step - loss: 0.1296 - accuracy: 0.9414 - val_loss: 1.7254 - val_accuracy: 0.5045\n",
            "Epoch 36/50\n",
            "126/126 [==============================] - 5s 41ms/step - loss: 0.1245 - accuracy: 0.9452 - val_loss: 1.7418 - val_accuracy: 0.4910\n",
            "Epoch 37/50\n",
            "126/126 [==============================] - 7s 56ms/step - loss: 0.1365 - accuracy: 0.9377 - val_loss: 1.7195 - val_accuracy: 0.4955\n",
            "Epoch 38/50\n",
            "126/126 [==============================] - 5s 40ms/step - loss: 0.1491 - accuracy: 0.9372 - val_loss: 1.7259 - val_accuracy: 0.4933\n",
            "Epoch 39/50\n",
            "126/126 [==============================] - 7s 58ms/step - loss: 0.1454 - accuracy: 0.9359 - val_loss: 1.6679 - val_accuracy: 0.4910\n",
            "Epoch 40/50\n",
            "126/126 [==============================] - 5s 40ms/step - loss: 0.1238 - accuracy: 0.9434 - val_loss: 1.8255 - val_accuracy: 0.5067\n",
            "Epoch 41/50\n",
            "126/126 [==============================] - 5s 40ms/step - loss: 0.1146 - accuracy: 0.9479 - val_loss: 1.7902 - val_accuracy: 0.4910\n",
            "Epoch 42/50\n",
            "126/126 [==============================] - 7s 57ms/step - loss: 0.1144 - accuracy: 0.9444 - val_loss: 1.8892 - val_accuracy: 0.4821\n",
            "Epoch 43/50\n",
            "126/126 [==============================] - 5s 41ms/step - loss: 0.1151 - accuracy: 0.9514 - val_loss: 1.7873 - val_accuracy: 0.4843\n",
            "Epoch 44/50\n",
            "126/126 [==============================] - 8s 60ms/step - loss: 0.1064 - accuracy: 0.9501 - val_loss: 1.8445 - val_accuracy: 0.4955\n",
            "Epoch 45/50\n",
            "126/126 [==============================] - 5s 41ms/step - loss: 0.1020 - accuracy: 0.9559 - val_loss: 1.8787 - val_accuracy: 0.4933\n",
            "Epoch 46/50\n",
            "126/126 [==============================] - 6s 48ms/step - loss: 0.0976 - accuracy: 0.9524 - val_loss: 1.8341 - val_accuracy: 0.5045\n",
            "Epoch 47/50\n",
            "126/126 [==============================] - 6s 50ms/step - loss: 0.1142 - accuracy: 0.9506 - val_loss: 1.8156 - val_accuracy: 0.5022\n",
            "Epoch 48/50\n",
            "126/126 [==============================] - 5s 39ms/step - loss: 0.1022 - accuracy: 0.9536 - val_loss: 1.8749 - val_accuracy: 0.4955\n",
            "Epoch 49/50\n",
            "126/126 [==============================] - 8s 60ms/step - loss: 0.0953 - accuracy: 0.9546 - val_loss: 1.8751 - val_accuracy: 0.5179\n",
            "Epoch 50/50\n",
            "126/126 [==============================] - 5s 40ms/step - loss: 0.1004 - accuracy: 0.9519 - val_loss: 1.8876 - val_accuracy: 0.5135\n"
          ]
        }
      ],
      "source": [
        "# Prepare the data - Use the lemmatized tokens from your processed corpus\n",
        "sentences = [' '.join(tokens['lemmatized_tokens']) for tokens in final_processed_corpus]\n",
        "\n",
        "# Create a tokenizer\n",
        "tokenizer = Tokenizer()\n",
        "tokenizer.fit_on_texts(sentences)\n",
        "sequences = tokenizer.texts_to_sequences(sentences)\n",
        "max_length = max([len(seq) for seq in sequences])\n",
        "padded_sequences = pad_sequences(sequences, maxlen=max_length, padding='post')\n",
        "\n",
        "rnn_model = Sequential()\n",
        "rnn_model.add(Embedding(input_dim=len(tokenizer.word_index)+1, output_dim=32, input_length=max_length))\n",
        "rnn_model.add(SimpleRNN(16))\n",
        "rnn_model.add(Dense(1, activation='sigmoid'))\n",
        "\n",
        "rnn_model.compile(loss='binary_crossentropy', optimizer='adam', metrics=['accuracy'])\n",
        "labels = np.array([1] * (len(sentences) // 2) + [0] * (len(sentences) - len(sentences) // 2))\n",
        "\n",
        "X_train, X_test, y_train, y_test = train_test_split(padded_sequences, labels, test_size=0.2, random_state=42)\n",
        "rnn_history = rnn_model.fit(X_train, y_train, epochs=50, validation_split=0.1, verbose=1)"
      ]
    },
    {
      "cell_type": "markdown",
      "source": [
        "### **Apply a Long Short-Term Memory (LSTM) model to predict the probability of the next word in a sentence**"
      ],
      "metadata": {
        "id": "s1VvfvzIn7Ih"
      }
    },
    {
      "cell_type": "code",
      "execution_count": null,
      "metadata": {
        "colab": {
          "base_uri": "https://localhost:8080/"
        },
        "id": "zUwshengOwM4",
        "outputId": "d8c0435e-e9a4-4f9e-9bde-badc3155a560"
      },
      "outputs": [
        {
          "output_type": "stream",
          "name": "stdout",
          "text": [
            "Epoch 1/50\n",
            "126/126 [==============================] - 16s 99ms/step - loss: 0.6935 - accuracy: 0.4931 - val_loss: 0.6929 - val_accuracy: 0.5269\n",
            "Epoch 2/50\n",
            "126/126 [==============================] - 8s 65ms/step - loss: 0.6934 - accuracy: 0.5031 - val_loss: 0.6923 - val_accuracy: 0.5269\n",
            "Epoch 3/50\n",
            "126/126 [==============================] - 10s 79ms/step - loss: 0.6935 - accuracy: 0.4996 - val_loss: 0.6928 - val_accuracy: 0.5269\n",
            "Epoch 4/50\n",
            "126/126 [==============================] - 10s 82ms/step - loss: 0.6934 - accuracy: 0.4944 - val_loss: 0.6934 - val_accuracy: 0.4731\n",
            "Epoch 5/50\n",
            "126/126 [==============================] - 8s 65ms/step - loss: 0.6933 - accuracy: 0.4887 - val_loss: 0.6928 - val_accuracy: 0.5269\n",
            "Epoch 6/50\n",
            "126/126 [==============================] - 10s 82ms/step - loss: 0.6933 - accuracy: 0.4877 - val_loss: 0.6931 - val_accuracy: 0.5269\n",
            "Epoch 7/50\n",
            "126/126 [==============================] - 10s 81ms/step - loss: 0.6933 - accuracy: 0.4984 - val_loss: 0.6937 - val_accuracy: 0.4731\n",
            "Epoch 8/50\n",
            "126/126 [==============================] - 10s 79ms/step - loss: 0.6933 - accuracy: 0.4929 - val_loss: 0.6938 - val_accuracy: 0.4731\n",
            "Epoch 9/50\n",
            "126/126 [==============================] - 10s 82ms/step - loss: 0.6933 - accuracy: 0.4894 - val_loss: 0.6932 - val_accuracy: 0.4731\n",
            "Epoch 10/50\n",
            "126/126 [==============================] - 8s 66ms/step - loss: 0.6933 - accuracy: 0.4974 - val_loss: 0.6937 - val_accuracy: 0.4731\n",
            "Epoch 11/50\n",
            "126/126 [==============================] - 10s 81ms/step - loss: 0.6932 - accuracy: 0.4976 - val_loss: 0.6931 - val_accuracy: 0.5269\n",
            "Epoch 12/50\n",
            "126/126 [==============================] - 12s 97ms/step - loss: 0.6933 - accuracy: 0.5009 - val_loss: 0.6936 - val_accuracy: 0.4731\n",
            "Epoch 13/50\n",
            "126/126 [==============================] - 8s 66ms/step - loss: 0.6934 - accuracy: 0.4814 - val_loss: 0.6936 - val_accuracy: 0.4731\n",
            "Epoch 14/50\n",
            "126/126 [==============================] - 10s 78ms/step - loss: 0.6933 - accuracy: 0.4894 - val_loss: 0.6935 - val_accuracy: 0.4731\n",
            "Epoch 15/50\n",
            "126/126 [==============================] - 9s 74ms/step - loss: 0.6932 - accuracy: 0.4979 - val_loss: 0.6931 - val_accuracy: 0.5269\n",
            "Epoch 16/50\n",
            "126/126 [==============================] - 9s 72ms/step - loss: 0.6932 - accuracy: 0.4979 - val_loss: 0.6933 - val_accuracy: 0.4731\n",
            "Epoch 17/50\n",
            "126/126 [==============================] - 10s 81ms/step - loss: 0.6932 - accuracy: 0.5004 - val_loss: 0.6933 - val_accuracy: 0.4731\n",
            "Epoch 18/50\n",
            "126/126 [==============================] - 8s 67ms/step - loss: 0.6932 - accuracy: 0.4854 - val_loss: 0.6932 - val_accuracy: 0.4731\n",
            "Epoch 19/50\n",
            "126/126 [==============================] - 10s 79ms/step - loss: 0.6932 - accuracy: 0.5004 - val_loss: 0.6932 - val_accuracy: 0.4731\n",
            "Epoch 20/50\n",
            "126/126 [==============================] - 10s 81ms/step - loss: 0.6934 - accuracy: 0.4842 - val_loss: 0.6929 - val_accuracy: 0.5269\n",
            "Epoch 21/50\n",
            "126/126 [==============================] - 8s 65ms/step - loss: 0.6932 - accuracy: 0.4936 - val_loss: 0.6931 - val_accuracy: 0.5269\n",
            "Epoch 22/50\n",
            "126/126 [==============================] - 10s 80ms/step - loss: 0.6932 - accuracy: 0.4916 - val_loss: 0.6930 - val_accuracy: 0.5269\n",
            "Epoch 23/50\n",
            "126/126 [==============================] - 10s 77ms/step - loss: 0.6932 - accuracy: 0.4907 - val_loss: 0.6931 - val_accuracy: 0.5269\n",
            "Epoch 24/50\n",
            "126/126 [==============================] - 11s 85ms/step - loss: 0.6932 - accuracy: 0.4974 - val_loss: 0.6934 - val_accuracy: 0.4731\n",
            "Epoch 25/50\n",
            "126/126 [==============================] - 11s 85ms/step - loss: 0.6932 - accuracy: 0.5004 - val_loss: 0.6933 - val_accuracy: 0.4731\n",
            "Epoch 26/50\n",
            "126/126 [==============================] - 9s 71ms/step - loss: 0.6932 - accuracy: 0.4869 - val_loss: 0.6934 - val_accuracy: 0.4731\n",
            "Epoch 27/50\n",
            "126/126 [==============================] - 10s 81ms/step - loss: 0.6932 - accuracy: 0.5004 - val_loss: 0.6933 - val_accuracy: 0.4731\n",
            "Epoch 28/50\n",
            "126/126 [==============================] - 11s 85ms/step - loss: 0.6932 - accuracy: 0.4991 - val_loss: 0.6931 - val_accuracy: 0.5269\n",
            "Epoch 29/50\n",
            "126/126 [==============================] - 8s 67ms/step - loss: 0.6932 - accuracy: 0.4959 - val_loss: 0.6933 - val_accuracy: 0.4731\n",
            "Epoch 30/50\n",
            "126/126 [==============================] - 13s 104ms/step - loss: 0.6932 - accuracy: 0.5004 - val_loss: 0.6933 - val_accuracy: 0.4731\n",
            "Epoch 31/50\n",
            "126/126 [==============================] - 11s 85ms/step - loss: 0.6932 - accuracy: 0.4879 - val_loss: 0.6932 - val_accuracy: 0.4731\n",
            "Epoch 32/50\n",
            "126/126 [==============================] - 9s 68ms/step - loss: 0.6932 - accuracy: 0.4877 - val_loss: 0.6931 - val_accuracy: 0.5269\n",
            "Epoch 33/50\n",
            "126/126 [==============================] - 10s 78ms/step - loss: 0.6932 - accuracy: 0.4934 - val_loss: 0.6932 - val_accuracy: 0.4731\n",
            "Epoch 34/50\n",
            "126/126 [==============================] - 10s 82ms/step - loss: 0.6932 - accuracy: 0.5006 - val_loss: 0.6931 - val_accuracy: 0.5269\n",
            "Epoch 35/50\n",
            "126/126 [==============================] - 8s 66ms/step - loss: 0.6932 - accuracy: 0.5009 - val_loss: 0.6932 - val_accuracy: 0.4731\n",
            "Epoch 36/50\n",
            "126/126 [==============================] - 10s 82ms/step - loss: 0.6932 - accuracy: 0.4996 - val_loss: 0.6931 - val_accuracy: 0.5269\n",
            "Epoch 37/50\n",
            "126/126 [==============================] - 10s 83ms/step - loss: 0.6932 - accuracy: 0.4914 - val_loss: 0.6932 - val_accuracy: 0.4731\n",
            "Epoch 38/50\n",
            "126/126 [==============================] - 8s 67ms/step - loss: 0.6932 - accuracy: 0.4879 - val_loss: 0.6932 - val_accuracy: 0.4731\n",
            "Epoch 39/50\n",
            "126/126 [==============================] - 10s 82ms/step - loss: 0.6932 - accuracy: 0.5004 - val_loss: 0.6945 - val_accuracy: 0.4731\n",
            "Epoch 40/50\n",
            "126/126 [==============================] - 10s 80ms/step - loss: 0.6933 - accuracy: 0.4936 - val_loss: 0.6931 - val_accuracy: 0.5269\n",
            "Epoch 41/50\n",
            "126/126 [==============================] - 9s 67ms/step - loss: 0.6932 - accuracy: 0.4894 - val_loss: 0.6933 - val_accuracy: 0.4731\n",
            "Epoch 42/50\n",
            "126/126 [==============================] - 11s 84ms/step - loss: 0.6932 - accuracy: 0.5004 - val_loss: 0.6932 - val_accuracy: 0.4731\n",
            "Epoch 43/50\n",
            "126/126 [==============================] - 9s 72ms/step - loss: 0.6932 - accuracy: 0.4961 - val_loss: 0.6931 - val_accuracy: 0.5269\n",
            "Epoch 44/50\n",
            "126/126 [==============================] - 9s 75ms/step - loss: 0.6932 - accuracy: 0.4902 - val_loss: 0.6931 - val_accuracy: 0.5269\n",
            "Epoch 45/50\n",
            "126/126 [==============================] - 10s 82ms/step - loss: 0.6932 - accuracy: 0.4994 - val_loss: 0.6932 - val_accuracy: 0.4731\n",
            "Epoch 46/50\n",
            "126/126 [==============================] - 11s 88ms/step - loss: 0.6932 - accuracy: 0.4847 - val_loss: 0.6931 - val_accuracy: 0.5269\n",
            "Epoch 47/50\n",
            "126/126 [==============================] - 9s 73ms/step - loss: 0.6932 - accuracy: 0.4994 - val_loss: 0.6932 - val_accuracy: 0.4731\n",
            "Epoch 48/50\n",
            "126/126 [==============================] - 10s 81ms/step - loss: 0.6932 - accuracy: 0.4986 - val_loss: 0.6931 - val_accuracy: 0.5269\n",
            "Epoch 49/50\n",
            "126/126 [==============================] - 9s 68ms/step - loss: 0.6932 - accuracy: 0.4911 - val_loss: 0.6931 - val_accuracy: 0.5269\n",
            "Epoch 50/50\n",
            "126/126 [==============================] - 10s 80ms/step - loss: 0.6932 - accuracy: 0.4996 - val_loss: 0.6931 - val_accuracy: 0.5269\n"
          ]
        }
      ],
      "source": [
        "# Prepare the data - Use the lemmatized tokens from your processed corpus\n",
        "sentences = [' '.join(tokens['lemmatized_tokens']) for tokens in final_processed_corpus]\n",
        "\n",
        "# Create a tokenizer\n",
        "tokenizer = Tokenizer()\n",
        "tokenizer.fit_on_texts(sentences)\n",
        "sequences = tokenizer.texts_to_sequences(sentences)\n",
        "max_length = max([len(seq) for seq in sequences])\n",
        "padded_sequences = pad_sequences(sequences, maxlen=max_length, padding='post')\n",
        "\n",
        "# Create the model\n",
        "lstm_model = Sequential()\n",
        "lstm_model.add(Embedding(input_dim=len(tokenizer.word_index)+1, output_dim=32, input_length=max_length))\n",
        "lstm_model.add(LSTM(16))\n",
        "lstm_model.add(Dense(1, activation='sigmoid'))\n",
        "\n",
        "# Compile the model\n",
        "lstm_model.compile(loss='binary_crossentropy', optimizer='adam', metrics=['accuracy'])\n",
        "\n",
        "# Create labels (assuming first half is positive, second half is negative)\n",
        "labels = np.array([1] * (len(sentences) // 2) + [0] * (len(sentences) - len(sentences) // 2))\n",
        "\n",
        "# Train the model\n",
        "lstm_history = lstm_model.fit(X_train, y_train, epochs=50, validation_split=0.1, verbose=1)"
      ]
    },
    {
      "cell_type": "markdown",
      "source": [
        "### **Compare the results of the RNN and LSTM models in terms of their predictive performance (e.g., perplexity, accuracy) for the next-word prediction task**"
      ],
      "metadata": {
        "id": "pwbXEJgEr_-D"
      }
    },
    {
      "cell_type": "code",
      "execution_count": null,
      "metadata": {
        "id": "2dctJLqAUUp_",
        "colab": {
          "base_uri": "https://localhost:8080/",
          "height": 555
        },
        "outputId": "78597306-890d-4de9-f6ea-9d17c4b7135f"
      },
      "outputs": [
        {
          "output_type": "stream",
          "name": "stdout",
          "text": [
            "RNN Results:\n",
            "Accuracy: 0.4960\n",
            "Perplexity: 7.0754\n",
            "\n",
            "LSTM Results:\n",
            "Accuracy: 0.4915\n",
            "Perplexity: 2.0000\n"
          ]
        },
        {
          "output_type": "display_data",
          "data": {
            "text/plain": [
              "<Figure size 1200x400 with 2 Axes>"
            ],
            "image/png": "[encoded data removed]"
          },
          "metadata": {}
        }
      ],
      "source": [
        "from sklearn.model_selection import train_test_split\n",
        "\n",
        "# Evaluate models\n",
        "def evaluate_model(model, X_test, y_test):\n",
        "    loss, accuracy = model.evaluate(X_test, y_test, verbose=0)\n",
        "    perplexity = np.exp(loss)\n",
        "    return accuracy, perplexity\n",
        "\n",
        "rnn_accuracy, rnn_perplexity = evaluate_model(rnn_model, X_test, y_test)\n",
        "lstm_accuracy, lstm_perplexity = evaluate_model(lstm_model, X_test, y_test)\n",
        "\n",
        "print(\"RNN Results:\")\n",
        "print(f\"Accuracy: {rnn_accuracy:.4f}\")\n",
        "print(f\"Perplexity: {rnn_perplexity:.4f}\")\n",
        "\n",
        "print(\"\\nLSTM Results:\")\n",
        "print(f\"Accuracy: {lstm_accuracy:.4f}\")\n",
        "print(f\"Perplexity: {lstm_perplexity:.4f}\")\n",
        "\n",
        "# Plot training history\n",
        "import matplotlib.pyplot as plt\n",
        "\n",
        "plt.figure(figsize=(12, 4))\n",
        "\n",
        "plt.subplot(1, 2, 1)\n",
        "plt.plot(rnn_history.history['accuracy'], label='RNN Train')\n",
        "plt.plot(rnn_history.history['val_accuracy'], label='RNN Validation')\n",
        "plt.plot(lstm_history.history['accuracy'], label='LSTM Train')\n",
        "plt.plot(lstm_history.history['val_accuracy'], label='LSTM Validation')\n",
        "plt.title('Model Accuracy')\n",
        "plt.xlabel('Epoch')\n",
        "plt.ylabel('Accuracy')\n",
        "plt.legend()\n",
        "\n",
        "plt.subplot(1, 2, 2)\n",
        "plt.plot(rnn_history.history['loss'], label='RNN Train')\n",
        "plt.plot(rnn_history.history['val_loss'], label='RNN Validation')\n",
        "plt.plot(lstm_history.history['loss'], label='LSTM Train')\n",
        "plt.plot(lstm_history.history['val_loss'], label='LSTM Validation')\n",
        "plt.title('Model Loss')\n",
        "plt.xlabel('Epoch')\n",
        "plt.ylabel('Loss')\n",
        "plt.legend()\n",
        "\n",
        "plt.tight_layout()\n",
        "plt.show()"
      ]
    },
    {
      "cell_type": "markdown",
      "source": [
        "### **Use the KL-Sum algorithm (or any other relevant summarization algorithm) to perform extractive text summarization on the corpus**"
      ],
      "metadata": {
        "id": "HWl00mOm2hu1"
      }
    },
    {
      "cell_type": "code",
      "source": [
        "import numpy as np\n",
        "from sklearn.feature_extraction.text import CountVectorizer\n",
        "from scipy.special import kl_div\n",
        "\n",
        "def kl_sum(sentences, num_sentences=3):\n",
        "    # Create a CountVectorizer to get word frequencies\n",
        "    vectorizer = CountVectorizer()\n",
        "    sentence_vectors = vectorizer.fit_transform(sentences)\n",
        "\n",
        "    # Get word frequencies for the entire text\n",
        "    text_freq = np.sum(sentence_vectors, axis=0)\n",
        "    text_freq = text_freq / np.sum(text_freq)\n",
        "\n",
        "    # Initialize summary with the first sentence\n",
        "    summary = [0]\n",
        "    summary_freq = sentence_vectors[0].toarray().flatten()\n",
        "    summary_freq = summary_freq / np.sum(summary_freq)\n",
        "\n",
        "    # Select sentences to minimize KL divergence\n",
        "    while len(summary) < num_sentences:\n",
        "        min_kl = float('inf')\n",
        "        min_idx = -1\n",
        "\n",
        "        for i in range(len(sentences)):\n",
        "            if i not in summary:\n",
        "                # Calculate new summary frequency if we add this sentence\n",
        "                new_summary_freq = summary_freq + sentence_vectors[i].toarray().flatten()\n",
        "                new_summary_freq = new_summary_freq / np.sum(new_summary_freq)\n",
        "\n",
        "                # Calculate KL divergence\n",
        "                kl = np.sum(kl_div(text_freq, new_summary_freq))\n",
        "\n",
        "                if kl < min_kl:\n",
        "                    min_kl = kl\n",
        "                    min_idx = i\n",
        "\n",
        "        # Add the sentence that minimizes KL divergence\n",
        "        summary.append(min_idx)\n",
        "        summary_freq = summary_freq + sentence_vectors[min_idx].toarray().flatten()\n",
        "        summary_freq = summary_freq / np.sum(summary_freq)\n",
        "\n",
        "    return [sentences[i] for i in sorted(summary)]\n",
        "\n",
        "# Use the corpus you've already processed\n",
        "corpus = df['v2'].tolist()\n",
        "\n",
        "# Perform summarization on each text in the corpus\n",
        "summarized_corpus = []\n",
        "for text in corpus:\n",
        "    sentences = sent_tokenize(text)\n",
        "    if len(sentences) > 3:  # Only summarize if there are more than 3 sentences\n",
        "        summary = kl_sum(sentences)\n",
        "        summarized_corpus.append(' '.join(summary))\n",
        "    else:\n",
        "        summarized_corpus.append(text)  # Keep original text if it's short\n",
        "\n",
        "# Print a few examples\n",
        "for i in range(5):\n",
        "    print(f\"Original text: {corpus[i]}\")\n",
        "    print(f\"Summarized text: {summarized_corpus[i]}\")\n",
        "    print()\n",
        "\n",
        "# Calculate average reduction in text length\n",
        "original_lengths = [len(text.split()) for text in corpus]\n",
        "summary_lengths = [len(text.split()) for text in summarized_corpus]\n",
        "avg_reduction = 1 - (sum(summary_lengths) / sum(original_lengths))\n",
        "print(f\"Average text length reduction: {avg_reduction:.2%}\")"
      ],
      "metadata": {
        "colab": {
          "base_uri": "https://localhost:8080/"
        },
        "id": "gFP8ZPd8ySsq",
        "outputId": "4653eb6e-cffd-4d09-cab3-6f2d5929ce65"
      },
      "execution_count": null,
      "outputs": [
        {
          "output_type": "stream",
          "name": "stderr",
          "text": [
            "<ipython-input-41-52a7c6c1ccb0>:17: RuntimeWarning: invalid value encountered in divide\n",
            "  summary_freq = summary_freq / np.sum(summary_freq)\n",
            "<ipython-input-41-52a7c6c1ccb0>:17: RuntimeWarning: divide by zero encountered in divide\n",
            "  summary_freq = summary_freq / np.sum(summary_freq)\n"
          ]
        },
        {
          "output_type": "stream",
          "name": "stdout",
          "text": [
            "Original text: Go until jurong point, crazy.. Available only in bugis n great world la e buffet... Cine there got amore wat...\n",
            "Summarized text: Go until jurong point, crazy.. Available only in bugis n great world la e buffet... Cine there got amore wat...\n",
            "\n",
            "Original text: Ok lar... Joking wif u oni...\n",
            "Summarized text: Ok lar... Joking wif u oni...\n",
            "\n",
            "Original text: Free entry in 2 a wkly comp to win FA Cup final tkts 21st May 2005. Text FA to 87121 to receive entry question(std txt rate)T&C's apply 08452810075over18's\n",
            "Summarized text: Free entry in 2 a wkly comp to win FA Cup final tkts 21st May 2005. Text FA to 87121 to receive entry question(std txt rate)T&C's apply 08452810075over18's\n",
            "\n",
            "Original text: U dun say so early hor... U c already then say...\n",
            "Summarized text: U dun say so early hor... U c already then say...\n",
            "\n",
            "Original text: Nah I don't think he goes to usf, he lives around here though\n",
            "Summarized text: Nah I don't think he goes to usf, he lives around here though\n",
            "\n",
            "Average text length reduction: 10.73%\n"
          ]
        }
      ]
    },
    {
      "cell_type": "markdown",
      "source": [
        "### **Fine-tune a pre-trained GPT-2 language model on your corpus. Select 5 partial sentences from the corpus, and use the fine-tuned GPT-2 model to generate completions for those partial sentences**"
      ],
      "metadata": {
        "id": "9eXX-SPe3-H9"
      }
    },
    {
      "cell_type": "code",
      "source": [
        "!pip install transformers torch\n",
        "!pip install accelerate -U\n",
        "!pip install transformers[torch] -U"
      ],
      "metadata": {
        "colab": {
          "base_uri": "https://localhost:8080/",
          "height": 1000
        },
        "id": "ed30jr8U5JyO",
        "outputId": "aefd33cc-6b75-413c-dde8-fc23ed9e179e"
      },
      "execution_count": null,
      "outputs": [
        {
          "output_type": "stream",
          "name": "stdout",
          "text": [
            "Requirement already satisfied: transformers in /usr/local/lib/python3.10/dist-packages (4.41.2)\n",
            "Requirement already satisfied: torch in /usr/local/lib/python3.10/dist-packages (2.3.0+cu121)\n",
            "Requirement already satisfied: filelock in /usr/local/lib/python3.10/dist-packages (from transformers) (3.15.4)\n",
            "Requirement already satisfied: huggingface-hub<1.0,>=0.23.0 in /usr/local/lib/python3.10/dist-packages (from transformers) (0.23.4)\n",
            "Requirement already satisfied: numpy>=1.17 in /usr/local/lib/python3.10/dist-packages (from transformers) (1.25.2)\n",
            "Requirement already satisfied: packaging>=20.0 in /usr/local/lib/python3.10/dist-packages (from transformers) (24.1)\n",
            "Requirement already satisfied: pyyaml>=5.1 in /usr/local/lib/python3.10/dist-packages (from transformers) (6.0.1)\n",
            "Requirement already satisfied: regex!=2019.12.17 in /usr/local/lib/python3.10/dist-packages (from transformers) (2024.5.15)\n",
            "Requirement already satisfied: requests in /usr/local/lib/python3.10/dist-packages (from transformers) (2.31.0)\n",
            "Requirement already satisfied: tokenizers<0.20,>=0.19 in /usr/local/lib/python3.10/dist-packages (from transformers) (0.19.1)\n",
            "Requirement already satisfied: safetensors>=0.4.1 in /usr/local/lib/python3.10/dist-packages (from transformers) (0.4.3)\n",
            "Requirement already satisfied: tqdm>=4.27 in /usr/local/lib/python3.10/dist-packages (from transformers) (4.66.4)\n",
            "Requirement already satisfied: typing-extensions>=4.8.0 in /usr/local/lib/python3.10/dist-packages (from torch) (4.12.2)\n",
            "Requirement already satisfied: sympy in /usr/local/lib/python3.10/dist-packages (from torch) (1.13.0)\n",
            "Requirement already satisfied: networkx in /usr/local/lib/python3.10/dist-packages (from torch) (3.3)\n",
            "Requirement already satisfied: jinja2 in /usr/local/lib/python3.10/dist-packages (from torch) (3.1.4)\n",
            "Requirement already satisfied: fsspec in /usr/local/lib/python3.10/dist-packages (from torch) (2023.6.0)\n",
            "Requirement already satisfied: nvidia-cuda-nvrtc-cu12==12.1.105 in /usr/local/lib/python3.10/dist-packages (from torch) (12.1.105)\n",
            "Requirement already satisfied: nvidia-cuda-runtime-cu12==12.1.105 in /usr/local/lib/python3.10/dist-packages (from torch) (12.1.105)\n",
            "Requirement already satisfied: nvidia-cuda-cupti-cu12==12.1.105 in /usr/local/lib/python3.10/dist-packages (from torch) (12.1.105)\n",
            "Requirement already satisfied: nvidia-cudnn-cu12==8.9.2.26 in /usr/local/lib/python3.10/dist-packages (from torch) (8.9.2.26)\n",
            "Requirement already satisfied: nvidia-cublas-cu12==12.1.3.1 in /usr/local/lib/python3.10/dist-packages (from torch) (12.1.3.1)\n",
            "Requirement already satisfied: nvidia-cufft-cu12==11.0.2.54 in /usr/local/lib/python3.10/dist-packages (from torch) (11.0.2.54)\n",
            "Requirement already satisfied: nvidia-curand-cu12==10.3.2.106 in /usr/local/lib/python3.10/dist-packages (from torch) (10.3.2.106)\n",
            "Requirement already satisfied: nvidia-cusolver-cu12==11.4.5.107 in /usr/local/lib/python3.10/dist-packages (from torch) (11.4.5.107)\n",
            "Requirement already satisfied: nvidia-cusparse-cu12==12.1.0.106 in /usr/local/lib/python3.10/dist-packages (from torch) (12.1.0.106)\n",
            "Requirement already satisfied: nvidia-nccl-cu12==2.20.5 in /usr/local/lib/python3.10/dist-packages (from torch) (2.20.5)\n",
            "Requirement already satisfied: nvidia-nvtx-cu12==12.1.105 in /usr/local/lib/python3.10/dist-packages (from torch) (12.1.105)\n",
            "Requirement already satisfied: triton==2.3.0 in /usr/local/lib/python3.10/dist-packages (from torch) (2.3.0)\n",
            "Requirement already satisfied: nvidia-nvjitlink-cu12 in /usr/local/lib/python3.10/dist-packages (from nvidia-cusolver-cu12==11.4.5.107->torch) (12.5.82)\n",
            "Requirement already satisfied: MarkupSafe>=2.0 in /usr/local/lib/python3.10/dist-packages (from jinja2->torch) (2.1.5)\n",
            "Requirement already satisfied: charset-normalizer<4,>=2 in /usr/local/lib/python3.10/dist-packages (from requests->transformers) (3.3.2)\n",
            "Requirement already satisfied: idna<4,>=2.5 in /usr/local/lib/python3.10/dist-packages (from requests->transformers) (3.7)\n",
            "Requirement already satisfied: urllib3<3,>=1.21.1 in /usr/local/lib/python3.10/dist-packages (from requests->transformers) (2.0.7)\n",
            "Requirement already satisfied: certifi>=2017.4.17 in /usr/local/lib/python3.10/dist-packages (from requests->transformers) (2024.7.4)\n",
            "Requirement already satisfied: mpmath<1.4,>=1.1.0 in /usr/local/lib/python3.10/dist-packages (from sympy->torch) (1.3.0)\n",
            "Collecting accelerate\n",
            "  Downloading accelerate-0.32.1-py3-none-any.whl (314 kB)\n",
            "\u001b[2K     \u001b[90m━━━━━━━━━━━━━━━━━━━━━━━━━━━━━━━━━━━━━━━━\u001b[0m \u001b[32m314.1/314.1 kB\u001b[0m \u001b[31m6.5 MB/s\u001b[0m eta \u001b[36m0:00:00\u001b[0m\n",
            "\u001b[?25hRequirement already satisfied: numpy<2.0.0,>=1.17 in /usr/local/lib/python3.10/dist-packages (from accelerate) (1.25.2)\n",
            "Requirement already satisfied: packaging>=20.0 in /usr/local/lib/python3.10/dist-packages (from accelerate) (24.1)\n",
            "Requirement already satisfied: psutil in /usr/local/lib/python3.10/dist-packages (from accelerate) (5.9.5)\n",
            "Requirement already satisfied: pyyaml in /usr/local/lib/python3.10/dist-packages (from accelerate) (6.0.1)\n",
            "Requirement already satisfied: torch>=1.10.0 in /usr/local/lib/python3.10/dist-packages (from accelerate) (2.3.0+cu121)\n",
            "Requirement already satisfied: huggingface-hub in /usr/local/lib/python3.10/dist-packages (from accelerate) (0.23.4)\n",
            "Requirement already satisfied: safetensors>=0.3.1 in /usr/local/lib/python3.10/dist-packages (from accelerate) (0.4.3)\n",
            "Requirement already satisfied: filelock in /usr/local/lib/python3.10/dist-packages (from torch>=1.10.0->accelerate) (3.15.4)\n",
            "Requirement already satisfied: typing-extensions>=4.8.0 in /usr/local/lib/python3.10/dist-packages (from torch>=1.10.0->accelerate) (4.12.2)\n",
            "Requirement already satisfied: sympy in /usr/local/lib/python3.10/dist-packages (from torch>=1.10.0->accelerate) (1.13.0)\n",
            "Requirement already satisfied: networkx in /usr/local/lib/python3.10/dist-packages (from torch>=1.10.0->accelerate) (3.3)\n",
            "Requirement already satisfied: jinja2 in /usr/local/lib/python3.10/dist-packages (from torch>=1.10.0->accelerate) (3.1.4)\n",
            "Requirement already satisfied: fsspec in /usr/local/lib/python3.10/dist-packages (from torch>=1.10.0->accelerate) (2023.6.0)\n",
            "Requirement already satisfied: nvidia-cuda-nvrtc-cu12==12.1.105 in /usr/local/lib/python3.10/dist-packages (from torch>=1.10.0->accelerate) (12.1.105)\n",
            "Requirement already satisfied: nvidia-cuda-runtime-cu12==12.1.105 in /usr/local/lib/python3.10/dist-packages (from torch>=1.10.0->accelerate) (12.1.105)\n",
            "Requirement already satisfied: nvidia-cuda-cupti-cu12==12.1.105 in /usr/local/lib/python3.10/dist-packages (from torch>=1.10.0->accelerate) (12.1.105)\n",
            "Requirement already satisfied: nvidia-cudnn-cu12==8.9.2.26 in /usr/local/lib/python3.10/dist-packages (from torch>=1.10.0->accelerate) (8.9.2.26)\n",
            "Requirement already satisfied: nvidia-cublas-cu12==12.1.3.1 in /usr/local/lib/python3.10/dist-packages (from torch>=1.10.0->accelerate) (12.1.3.1)\n",
            "Requirement already satisfied: nvidia-cufft-cu12==11.0.2.54 in /usr/local/lib/python3.10/dist-packages (from torch>=1.10.0->accelerate) (11.0.2.54)\n",
            "Requirement already satisfied: nvidia-curand-cu12==10.3.2.106 in /usr/local/lib/python3.10/dist-packages (from torch>=1.10.0->accelerate) (10.3.2.106)\n",
            "Requirement already satisfied: nvidia-cusolver-cu12==11.4.5.107 in /usr/local/lib/python3.10/dist-packages (from torch>=1.10.0->accelerate) (11.4.5.107)\n",
            "Requirement already satisfied: nvidia-cusparse-cu12==12.1.0.106 in /usr/local/lib/python3.10/dist-packages (from torch>=1.10.0->accelerate) (12.1.0.106)\n",
            "Requirement already satisfied: nvidia-nccl-cu12==2.20.5 in /usr/local/lib/python3.10/dist-packages (from torch>=1.10.0->accelerate) (2.20.5)\n",
            "Requirement already satisfied: nvidia-nvtx-cu12==12.1.105 in /usr/local/lib/python3.10/dist-packages (from torch>=1.10.0->accelerate) (12.1.105)\n",
            "Requirement already satisfied: triton==2.3.0 in /usr/local/lib/python3.10/dist-packages (from torch>=1.10.0->accelerate) (2.3.0)\n",
            "Requirement already satisfied: nvidia-nvjitlink-cu12 in /usr/local/lib/python3.10/dist-packages (from nvidia-cusolver-cu12==11.4.5.107->torch>=1.10.0->accelerate) (12.5.82)\n",
            "Requirement already satisfied: requests in /usr/local/lib/python3.10/dist-packages (from huggingface-hub->accelerate) (2.31.0)\n",
            "Requirement already satisfied: tqdm>=4.42.1 in /usr/local/lib/python3.10/dist-packages (from huggingface-hub->accelerate) (4.66.4)\n",
            "Requirement already satisfied: MarkupSafe>=2.0 in /usr/local/lib/python3.10/dist-packages (from jinja2->torch>=1.10.0->accelerate) (2.1.5)\n",
            "Requirement already satisfied: charset-normalizer<4,>=2 in /usr/local/lib/python3.10/dist-packages (from requests->huggingface-hub->accelerate) (3.3.2)\n",
            "Requirement already satisfied: idna<4,>=2.5 in /usr/local/lib/python3.10/dist-packages (from requests->huggingface-hub->accelerate) (3.7)\n",
            "Requirement already satisfied: urllib3<3,>=1.21.1 in /usr/local/lib/python3.10/dist-packages (from requests->huggingface-hub->accelerate) (2.0.7)\n",
            "Requirement already satisfied: certifi>=2017.4.17 in /usr/local/lib/python3.10/dist-packages (from requests->huggingface-hub->accelerate) (2024.7.4)\n",
            "Requirement already satisfied: mpmath<1.4,>=1.1.0 in /usr/local/lib/python3.10/dist-packages (from sympy->torch>=1.10.0->accelerate) (1.3.0)\n",
            "Installing collected packages: accelerate\n",
            "Successfully installed accelerate-0.32.1\n",
            "Requirement already satisfied: transformers[torch] in /usr/local/lib/python3.10/dist-packages (4.41.2)\n",
            "Collecting transformers[torch]\n",
            "  Downloading transformers-4.42.4-py3-none-any.whl (9.3 MB)\n",
            "\u001b[2K     \u001b[90m━━━━━━━━━━━━━━━━━━━━━━━━━━━━━━━━━━━━━━━━\u001b[0m \u001b[32m9.3/9.3 MB\u001b[0m \u001b[31m42.5 MB/s\u001b[0m eta \u001b[36m0:00:00\u001b[0m\n",
            "\u001b[?25hRequirement already satisfied: filelock in /usr/local/lib/python3.10/dist-packages (from transformers[torch]) (3.15.4)\n",
            "Requirement already satisfied: huggingface-hub<1.0,>=0.23.2 in /usr/local/lib/python3.10/dist-packages (from transformers[torch]) (0.23.4)\n",
            "Requirement already satisfied: numpy<2.0,>=1.17 in /usr/local/lib/python3.10/dist-packages (from transformers[torch]) (1.25.2)\n",
            "Requirement already satisfied: packaging>=20.0 in /usr/local/lib/python3.10/dist-packages (from transformers[torch]) (24.1)\n",
            "Requirement already satisfied: pyyaml>=5.1 in /usr/local/lib/python3.10/dist-packages (from transformers[torch]) (6.0.1)\n",
            "Requirement already satisfied: regex!=2019.12.17 in /usr/local/lib/python3.10/dist-packages (from transformers[torch]) (2024.5.15)\n",
            "Requirement already satisfied: requests in /usr/local/lib/python3.10/dist-packages (from transformers[torch]) (2.31.0)\n",
            "Requirement already satisfied: safetensors>=0.4.1 in /usr/local/lib/python3.10/dist-packages (from transformers[torch]) (0.4.3)\n",
            "Requirement already satisfied: tokenizers<0.20,>=0.19 in /usr/local/lib/python3.10/dist-packages (from transformers[torch]) (0.19.1)\n",
            "Requirement already satisfied: tqdm>=4.27 in /usr/local/lib/python3.10/dist-packages (from transformers[torch]) (4.66.4)\n",
            "Requirement already satisfied: accelerate>=0.21.0 in /usr/local/lib/python3.10/dist-packages (from transformers[torch]) (0.32.1)\n",
            "Requirement already satisfied: torch in /usr/local/lib/python3.10/dist-packages (from transformers[torch]) (2.3.0+cu121)\n",
            "Requirement already satisfied: psutil in /usr/local/lib/python3.10/dist-packages (from accelerate>=0.21.0->transformers[torch]) (5.9.5)\n",
            "Requirement already satisfied: fsspec>=2023.5.0 in /usr/local/lib/python3.10/dist-packages (from huggingface-hub<1.0,>=0.23.2->transformers[torch]) (2023.6.0)\n",
            "Requirement already satisfied: typing-extensions>=3.7.4.3 in /usr/local/lib/python3.10/dist-packages (from huggingface-hub<1.0,>=0.23.2->transformers[torch]) (4.12.2)\n",
            "Requirement already satisfied: sympy in /usr/local/lib/python3.10/dist-packages (from torch->transformers[torch]) (1.13.0)\n",
            "Requirement already satisfied: networkx in /usr/local/lib/python3.10/dist-packages (from torch->transformers[torch]) (3.3)\n",
            "Requirement already satisfied: jinja2 in /usr/local/lib/python3.10/dist-packages (from torch->transformers[torch]) (3.1.4)\n",
            "Requirement already satisfied: nvidia-cuda-nvrtc-cu12==12.1.105 in /usr/local/lib/python3.10/dist-packages (from torch->transformers[torch]) (12.1.105)\n",
            "Requirement already satisfied: nvidia-cuda-runtime-cu12==12.1.105 in /usr/local/lib/python3.10/dist-packages (from torch->transformers[torch]) (12.1.105)\n",
            "Requirement already satisfied: nvidia-cuda-cupti-cu12==12.1.105 in /usr/local/lib/python3.10/dist-packages (from torch->transformers[torch]) (12.1.105)\n",
            "Requirement already satisfied: nvidia-cudnn-cu12==8.9.2.26 in /usr/local/lib/python3.10/dist-packages (from torch->transformers[torch]) (8.9.2.26)\n",
            "Requirement already satisfied: nvidia-cublas-cu12==12.1.3.1 in /usr/local/lib/python3.10/dist-packages (from torch->transformers[torch]) (12.1.3.1)\n",
            "Requirement already satisfied: nvidia-cufft-cu12==11.0.2.54 in /usr/local/lib/python3.10/dist-packages (from torch->transformers[torch]) (11.0.2.54)\n",
            "Requirement already satisfied: nvidia-curand-cu12==10.3.2.106 in /usr/local/lib/python3.10/dist-packages (from torch->transformers[torch]) (10.3.2.106)\n",
            "Requirement already satisfied: nvidia-cusolver-cu12==11.4.5.107 in /usr/local/lib/python3.10/dist-packages (from torch->transformers[torch]) (11.4.5.107)\n",
            "Requirement already satisfied: nvidia-cusparse-cu12==12.1.0.106 in /usr/local/lib/python3.10/dist-packages (from torch->transformers[torch]) (12.1.0.106)\n",
            "Requirement already satisfied: nvidia-nccl-cu12==2.20.5 in /usr/local/lib/python3.10/dist-packages (from torch->transformers[torch]) (2.20.5)\n",
            "Requirement already satisfied: nvidia-nvtx-cu12==12.1.105 in /usr/local/lib/python3.10/dist-packages (from torch->transformers[torch]) (12.1.105)\n",
            "Requirement already satisfied: triton==2.3.0 in /usr/local/lib/python3.10/dist-packages (from torch->transformers[torch]) (2.3.0)\n",
            "Requirement already satisfied: nvidia-nvjitlink-cu12 in /usr/local/lib/python3.10/dist-packages (from nvidia-cusolver-cu12==11.4.5.107->torch->transformers[torch]) (12.5.82)\n",
            "Requirement already satisfied: charset-normalizer<4,>=2 in /usr/local/lib/python3.10/dist-packages (from requests->transformers[torch]) (3.3.2)\n",
            "Requirement already satisfied: idna<4,>=2.5 in /usr/local/lib/python3.10/dist-packages (from requests->transformers[torch]) (3.7)\n",
            "Requirement already satisfied: urllib3<3,>=1.21.1 in /usr/local/lib/python3.10/dist-packages (from requests->transformers[torch]) (2.0.7)\n",
            "Requirement already satisfied: certifi>=2017.4.17 in /usr/local/lib/python3.10/dist-packages (from requests->transformers[torch]) (2024.7.4)\n",
            "Requirement already satisfied: MarkupSafe>=2.0 in /usr/local/lib/python3.10/dist-packages (from jinja2->torch->transformers[torch]) (2.1.5)\n",
            "Requirement already satisfied: mpmath<1.4,>=1.1.0 in /usr/local/lib/python3.10/dist-packages (from sympy->torch->transformers[torch]) (1.3.0)\n",
            "Installing collected packages: transformers\n",
            "  Attempting uninstall: transformers\n",
            "    Found existing installation: transformers 4.41.2\n",
            "    Uninstalling transformers-4.41.2:\n",
            "      Successfully uninstalled transformers-4.41.2\n",
            "Successfully installed transformers-4.42.4\n"
          ]
        },
        {
          "output_type": "display_data",
          "data": {
            "application/vnd.colab-display-data+json": {
              "pip_warning": {
                "packages": [
                  "transformers"
                ]
              },
              "id": "a416c115102245158a8658ee1f499846"
            }
          },
          "metadata": {}
        }
      ]
    },
    {
      "cell_type": "code",
      "source": [
        "import torch\n",
        "from transformers import GPT2LMHeadModel, GPT2Tokenizer, TextDataset, DataCollatorForLanguageModeling\n",
        "from transformers import Trainer, TrainingArguments\n",
        "import random\n",
        "\n",
        "# Load pre-trained model and tokenizer\n",
        "model_name = \"gpt2\"\n",
        "tokenizer = GPT2Tokenizer.from_pretrained(model_name)\n",
        "model = GPT2LMHeadModel.from_pretrained(model_name)\n",
        "\n",
        "# Prepare the dataset\n",
        "def prepare_dataset(texts, tokenizer):\n",
        "    # Join all texts into a single string\n",
        "    full_text = \" \".join(texts)\n",
        "\n",
        "    # Encode the text\n",
        "    encodings = tokenizer(full_text, truncation=True, max_length=512)\n",
        "\n",
        "    # Create a dataset\n",
        "    dataset = TextDataset(\n",
        "        tokenizer=tokenizer,\n",
        "        file_path=\"corpus.txt\",  # We'll save the corpus to a file\n",
        "        block_size=128\n",
        "    )\n",
        "\n",
        "    return dataset\n",
        "\n",
        "# Save corpus to a file\n",
        "with open(\"corpus.txt\", \"w\", encoding=\"utf-8\") as f:\n",
        "    for text in corpus:\n",
        "        f.write(text + \"\\n\")\n",
        "\n",
        "# Prepare the dataset\n",
        "dataset = prepare_dataset(corpus, tokenizer)\n",
        "\n",
        "# Prepare data collator\n",
        "data_collator = DataCollatorForLanguageModeling(\n",
        "    tokenizer=tokenizer, mlm=False\n",
        ")\n",
        "\n",
        "# Set up training arguments\n",
        "training_args = TrainingArguments(\n",
        "    output_dir=\"./gpt2-finetuned\",\n",
        "    overwrite_output_dir=True,\n",
        "    num_train_epochs=1,\n",
        "    per_device_train_batch_size=4,\n",
        "    save_steps=10_000,\n",
        "    save_total_limit=2,\n",
        ")\n",
        "\n",
        "# Initialize trainer\n",
        "trainer = Trainer(\n",
        "    model=model,\n",
        "    args=training_args,\n",
        "    data_collator=data_collator,\n",
        "    train_dataset=dataset,\n",
        ")\n",
        "\n",
        "# Fine-tune the model\n",
        "trainer.train()\n",
        "\n",
        "# Save the fine-tuned model\n",
        "model.save_pretrained(\"./gpt2-finetuned\")\n",
        "tokenizer.save_pretrained(\"./gpt2-finetuned\")\n",
        "\n",
        "# Function to generate completions\n",
        "def generate_completion(prompt, model, tokenizer, max_length=50):\n",
        "    input_ids = tokenizer.encode(prompt, return_tensors=\"pt\")\n",
        "    output = model.generate(input_ids, max_length=max_length, num_return_sequences=1, temperature=0.7)\n",
        "    return tokenizer.decode(output[0], skip_special_tokens=True)\n",
        "\n",
        "# Select 5 partial sentences from the corpus\n",
        "partial_sentences = []\n",
        "for _ in range(5):\n",
        "    text = random.choice(corpus)\n",
        "    words = text.split()\n",
        "    if len(words) > 5:\n",
        "        partial = \" \".join(words[:len(words)//2])\n",
        "        partial_sentences.append(partial)\n",
        "\n",
        "# Generate completions\n",
        "for partial in partial_sentences:\n",
        "    completion = generate_completion(partial, model, tokenizer)\n",
        "    print(f\"Partial: {partial}\")\n",
        "    print(f\"Completion: {completion}\")\n",
        "    print()"
      ],
      "metadata": {
        "colab": {
          "base_uri": "https://localhost:8080/",
          "height": 350
        },
        "id": "9uhakHsn3fec",
        "outputId": "e8c84116-da77-48d0-8840-aef404fee6c6"
      },
      "execution_count": null,
      "outputs": [
        {
          "output_type": "stream",
          "name": "stderr",
          "text": [
            "/usr/local/lib/python3.10/dist-packages/huggingface_hub/utils/_token.py:89: UserWarning: \n",
            "The secret `HF_TOKEN` does not exist in your Colab secrets.\n",
            "To authenticate with the Hugging Face Hub, create a token in your settings tab (https://huggingface.co/settings/tokens), set it as secret in your Google Colab and restart your session.\n",
            "You will be able to reuse this secret in all of your notebooks.\n",
            "Please note that authentication is recommended but still optional to access public models or datasets.\n",
            "  warnings.warn(\n"
          ]
        },
        {
          "output_type": "error",
          "ename": "NameError",
          "evalue": "name 'corpus' is not defined",
          "traceback": [
            "\u001b[0;31m---------------------------------------------------------------------------\u001b[0m",
            "\u001b[0;31mNameError\u001b[0m                                 Traceback (most recent call last)",
            "\u001b[0;32m<ipython-input-1-a29c53c8d4b3>\u001b[0m in \u001b[0;36m<cell line: 29>\u001b[0;34m()\u001b[0m\n\u001b[1;32m     28\u001b[0m \u001b[0;31m# Save corpus to a file\u001b[0m\u001b[0;34m\u001b[0m\u001b[0;34m\u001b[0m\u001b[0m\n\u001b[1;32m     29\u001b[0m \u001b[0;32mwith\u001b[0m \u001b[0mopen\u001b[0m\u001b[0;34m(\u001b[0m\u001b[0;34m\"corpus.txt\"\u001b[0m\u001b[0;34m,\u001b[0m \u001b[0;34m\"w\"\u001b[0m\u001b[0;34m,\u001b[0m \u001b[0mencoding\u001b[0m\u001b[0;34m=\u001b[0m\u001b[0;34m\"utf-8\"\u001b[0m\u001b[0;34m)\u001b[0m \u001b[0;32mas\u001b[0m \u001b[0mf\u001b[0m\u001b[0;34m:\u001b[0m\u001b[0;34m\u001b[0m\u001b[0;34m\u001b[0m\u001b[0m\n\u001b[0;32m---> 30\u001b[0;31m     \u001b[0;32mfor\u001b[0m \u001b[0mtext\u001b[0m \u001b[0;32min\u001b[0m \u001b[0mcorpus\u001b[0m\u001b[0;34m:\u001b[0m\u001b[0;34m\u001b[0m\u001b[0;34m\u001b[0m\u001b[0m\n\u001b[0m\u001b[1;32m     31\u001b[0m         \u001b[0mf\u001b[0m\u001b[0;34m.\u001b[0m\u001b[0mwrite\u001b[0m\u001b[0;34m(\u001b[0m\u001b[0mtext\u001b[0m \u001b[0;34m+\u001b[0m \u001b[0;34m\"\\n\"\u001b[0m\u001b[0;34m)\u001b[0m\u001b[0;34m\u001b[0m\u001b[0;34m\u001b[0m\u001b[0m\n\u001b[1;32m     32\u001b[0m \u001b[0;34m\u001b[0m\u001b[0m\n",
            "\u001b[0;31mNameError\u001b[0m: name 'corpus' is not defined"
          ]
        }
      ]
    },
    {
      "cell_type": "code",
      "source": [],
      "metadata": {
        "id": "-xlK3j8i4Qaz"
      },
      "execution_count": null,
      "outputs": []
    }
  ],
  "metadata": {
    "colab": {
      "provenance": []
    },
    "kernelspec": {
      "display_name": "Python 3",
      "name": "python3"
    },
    "language_info": {
      "name": "python"
    }
  },
  "nbformat": 4,
  "nbformat_minor": 0
}